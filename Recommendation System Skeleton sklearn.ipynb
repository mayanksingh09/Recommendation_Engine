{
 "cells": [
  {
   "cell_type": "code",
   "execution_count": null,
   "metadata": {},
   "outputs": [],
   "source": [
    "from sklearn.preprocessing import MinMaxScaler\n",
    "import pandas as pd\n",
    "import numpy as np\n",
    "from sklearn.ensemble import RandomForestRegressor\n",
    "from sklearn.model_selection import GridSearchCV\n",
    "from sklearn.metrics import mean_squared_error, make_scorer\n",
    "import matplotlib.pyplot as plt"
   ]
  },
  {
   "cell_type": "code",
   "execution_count": null,
   "metadata": {},
   "outputs": [],
   "source": [
    "upper = pd.read_csv('upper_city1_full.csv')\n",
    "middle = pd.read_csv('middle_city1_full.csv')\n",
    "lower = pd.read_csv('lower_city1_full.csv')"
   ]
  },
  {
   "cell_type": "code",
   "execution_count": null,
   "metadata": {},
   "outputs": [],
   "source": [
    "city1_full = pd.concat([upper,middle,lower], ignore_index=True)"
   ]
  },
  {
   "cell_type": "code",
   "execution_count": null,
   "metadata": {},
   "outputs": [],
   "source": [
    "city1_full['start'] = city1_full['start'].apply(str)"
   ]
  },
  {
   "cell_type": "code",
   "execution_count": null,
   "metadata": {},
   "outputs": [],
   "source": [
    "city1_full = city1_full.drop(['Unnamed: 0','OUTLET_ID'],axis=1)"
   ]
  },
  {
   "cell_type": "code",
   "execution_count": null,
   "metadata": {},
   "outputs": [],
   "source": [
    "city1_wo_na = city1_full.fillna(0)"
   ]
  },
  {
   "cell_type": "code",
   "execution_count": null,
   "metadata": {},
   "outputs": [],
   "source": [
    "col = list(city1_wo_na.columns)"
   ]
  },
  {
   "cell_type": "code",
   "execution_count": null,
   "metadata": {},
   "outputs": [],
   "source": [
    "col.remove('start')"
   ]
  },
  {
   "cell_type": "code",
   "execution_count": null,
   "metadata": {},
   "outputs": [],
   "source": [
    "col"
   ]
  },
  {
   "cell_type": "code",
   "execution_count": null,
   "metadata": {},
   "outputs": [],
   "source": [
    "from sklearn.preprocessing import MinMaxScaler"
   ]
  },
  {
   "cell_type": "code",
   "execution_count": null,
   "metadata": {},
   "outputs": [],
   "source": [
    "scaler = MinMaxScaler()"
   ]
  },
  {
   "cell_type": "code",
   "execution_count": null,
   "metadata": {},
   "outputs": [],
   "source": [
    "city1_wo_na[col] = scaler.fit_transform(city1_wo_na[col].as_matrix())"
   ]
  },
  {
   "cell_type": "code",
   "execution_count": null,
   "metadata": {},
   "outputs": [],
   "source": [
    "city1_wo_na.head()"
   ]
  },
  {
   "cell_type": "code",
   "execution_count": null,
   "metadata": {},
   "outputs": [],
   "source": [
    "city1_wo_na_corr = city1_wo_na.corr()"
   ]
  },
  {
   "cell_type": "code",
   "execution_count": null,
   "metadata": {},
   "outputs": [],
   "source": [
    "city1_wo_na_corr.head()"
   ]
  },
  {
   "cell_type": "code",
   "execution_count": null,
   "metadata": {},
   "outputs": [],
   "source": [
    "sales = pd.read_csv('EDA File.csv')"
   ]
  },
  {
   "cell_type": "code",
   "execution_count": null,
   "metadata": {},
   "outputs": [],
   "source": [
    "sales = sales[['ID','Type','Sales']]"
   ]
  },
  {
   "cell_type": "code",
   "execution_count": null,
   "metadata": {},
   "outputs": [],
   "source": [
    "final_data = city1_wo_na.merge(sales,how='left',left_on = 'start',right_on ='ID').drop(['ID'],axis=1)"
   ]
  },
  {
   "cell_type": "code",
   "execution_count": null,
   "metadata": {},
   "outputs": [],
   "source": [
    "train_data = final_data[final_data['Type']=='Store1']"
   ]
  },
  {
   "cell_type": "code",
   "execution_count": null,
   "metadata": {},
   "outputs": [],
   "source": [
    "train_data.info()"
   ]
  },
  {
   "cell_type": "code",
   "execution_count": null,
   "metadata": {},
   "outputs": [],
   "source": [
    "col_names = list(train_data.columns)"
   ]
  },
  {
   "cell_type": "code",
   "execution_count": null,
   "metadata": {},
   "outputs": [],
   "source": [
    "from sklearn.linear_model import LinearRegression\n",
    "import statsmodels.api as sm\n",
    "from scipy import stats\n",
    "from sklearn.feature_selection import chi2\n",
    "from sklearn.feature_selection import f_regression,mutual_info_regression"
   ]
  },
  {
   "cell_type": "code",
   "execution_count": null,
   "metadata": {},
   "outputs": [],
   "source": [
    "X = train_data.drop(['start','Sales','Type'],axis=1).as_matrix()\n",
    "y = np.array(train_data['Sales'])"
   ]
  },
  {
   "cell_type": "code",
   "execution_count": null,
   "metadata": {},
   "outputs": [],
   "source": [
    "def f_regression(X,Y):\n",
    "   import sklearn\n",
    "   return sklearn.feature_selection.f_regression(X,Y,center=False)"
   ]
  },
  {
   "cell_type": "code",
   "execution_count": null,
   "metadata": {},
   "outputs": [],
   "source": [
    "from sklearn.feature_selection import SelectKBest\n",
    "featureSelector = SelectKBest(score_func=f_regression,k=50)\n",
    "featureSelector.fit(X,y)\n",
    "print ([1+zero_based_index for zero_based_index in list(featureSelector.get_support(indices=True))])"
   ]
  },
  {
   "cell_type": "code",
   "execution_count": null,
   "metadata": {},
   "outputs": [],
   "source": [
    "f_test, _ = f_regression(X, y)\n",
    "f_test /= np.max(f_test)\n",
    "\n",
    "mi = mutual_info_regression(X, y)\n",
    "mi /= np.max(mi)\n",
    "\n",
    "plt.figure(figsize=(15, 5))\n",
    "for i in range(3):\n",
    "    plt.subplot(1, 3, i + 1)\n",
    "    plt.scatter(X[:, i], y, edgecolor='black', s=20)\n",
    "    plt.xlabel(\"$x_{}$\".format(i + 1), fontsize=14)\n",
    "    if i == 0:\n",
    "        plt.ylabel(\"$y$\", fontsize=14)\n",
    "    plt.title(\"F-test={:.2f}, MI={:.2f}\".format(f_test[i], mi[i]),\n",
    "              fontsize=16)\n",
    "plt.show()"
   ]
  },
  {
   "cell_type": "code",
   "execution_count": null,
   "metadata": {},
   "outputs": [],
   "source": [
    "f_test, p_values = f_regression(X, y)"
   ]
  },
  {
   "cell_type": "code",
   "execution_count": null,
   "metadata": {},
   "outputs": [],
   "source": [
    "feature_pvalue = pd.DataFrame({'feature_name':list(train_data.drop(['start','Sales','Type'],axis=1).columns),'p_values':list(p_values)})"
   ]
  },
  {
   "cell_type": "code",
   "execution_count": null,
   "metadata": {},
   "outputs": [],
   "source": [
    "feat_imp_p_values = feature_pvalue.nsmallest(50,columns='p_values')"
   ]
  },
  {
   "cell_type": "code",
   "execution_count": null,
   "metadata": {},
   "outputs": [],
   "source": [
    "feat_imp_p_values.to_csv('feat_imp_p_values.csv')"
   ]
  },
  {
   "cell_type": "code",
   "execution_count": null,
   "metadata": {},
   "outputs": [],
   "source": [
    "param_grid = {'n_estimators': [200, 500, 1000], 'max_features': [5, 10, 20, 30],'max_depth':[4,6,8]}\n",
    "clf = GridSearchCV(RandomForestRegressor(), \n",
    "                   param_grid, \n",
    "                   cv=5, \n",
    "                   scoring=make_scorer(mean_squared_error))"
   ]
  },
  {
   "cell_type": "code",
   "execution_count": null,
   "metadata": {},
   "outputs": [],
   "source": [
    "clf.fit(train_data[col_names], train_data['Sales'])"
   ]
  },
  {
   "cell_type": "code",
   "execution_count": null,
   "metadata": {},
   "outputs": [],
   "source": [
    "clf.best_params_"
   ]
  },
  {
   "cell_type": "code",
   "execution_count": null,
   "metadata": {},
   "outputs": [],
   "source": [
    "clf = RandomForestRegressor(max_depth=4, max_features=5, n_estimators=1000)\n",
    "clf.fit(train_data[col_names], train_data['Sales'])"
   ]
  },
  {
   "cell_type": "code",
   "execution_count": null,
   "metadata": {},
   "outputs": [],
   "source": [
    "importance = clf.feature_importances_\n",
    "importance = pd.DataFrame(importance, index=col_names, \n",
    "                          columns=[\"Importance\"])\n",
    "importance[\"Std\"] = np.std([tree.feature_importances_\n",
    "                            for tree in clf.estimators_], axis=0)"
   ]
  },
  {
   "cell_type": "code",
   "execution_count": null,
   "metadata": {},
   "outputs": [],
   "source": [
    "X = train_data[col_names]\n",
    "y = train_data['Sales']"
   ]
  },
  {
   "cell_type": "code",
   "execution_count": null,
   "metadata": {},
   "outputs": [],
   "source": [
    "feat_importances = pd.Series(clf.feature_importances_, index=X.columns)\n",
    "feat_importances = feat_importances.nlargest(20)\n",
    "plt.figure(figsize=(15,10))\n",
    "feat_importances.plot(kind='barh',color='blue',width=0.7)\n",
    "plt.ylabel('Features',fontsize=15)\n",
    "#plt.ylabel('ylabel', fontsize=16)\n",
    "plt.xlabel('Feature_Importance_Value',fontsize=15)\n",
    "#plt.savefig('feature_imp_10.jpg')"
   ]
  },
  {
   "cell_type": "code",
   "execution_count": null,
   "metadata": {},
   "outputs": [],
   "source": [
    "feat_importances = pd.Series(clf.feature_importances_, index=X.columns)"
   ]
  },
  {
   "cell_type": "code",
   "execution_count": null,
   "metadata": {},
   "outputs": [],
   "source": [
    "col_cos = list(final_data.columns)\n",
    "col_cos.remove('Type')\n",
    "col_cos.remove('Sales')"
   ]
  },
  {
   "cell_type": "code",
   "execution_count": null,
   "metadata": {},
   "outputs": [],
   "source": [
    "cos_data = final_data[col_cos]"
   ]
  },
  {
   "cell_type": "code",
   "execution_count": null,
   "metadata": {},
   "outputs": [],
   "source": [
    "from sklearn.metrics.pairwise import cosine_similarity"
   ]
  },
  {
   "cell_type": "code",
   "execution_count": null,
   "metadata": {},
   "outputs": [],
   "source": [
    "cos_data.set_index('start', inplace = True)"
   ]
  },
  {
   "cell_type": "code",
   "execution_count": null,
   "metadata": {},
   "outputs": [],
   "source": [
    "cosine_sim_df = cosine_similarity(cos_data)"
   ]
  },
  {
   "cell_type": "code",
   "execution_count": null,
   "metadata": {},
   "outputs": [],
   "source": [
    "cosine_sim_df = pd.DataFrame(cosine_sim_df, index = cos_data.index, columns = cos_data.index)"
   ]
  },
  {
   "cell_type": "code",
   "execution_count": null,
   "metadata": {},
   "outputs": [],
   "source": [
    "cosine_sim_df.head()"
   ]
  },
  {
   "cell_type": "markdown",
   "metadata": {},
   "source": [
    "## Feature Imp and Cosine Section wise"
   ]
  },
  {
   "cell_type": "code",
   "execution_count": null,
   "metadata": {},
   "outputs": [],
   "source": [
    "list(city1_wo_na.columns).sort()"
   ]
  },
  {
   "cell_type": "code",
   "execution_count": null,
   "metadata": {},
   "outputs": [],
   "source": [
    "list(train_data.columns)"
   ]
  },
  {
   "cell_type": "code",
   "execution_count": null,
   "metadata": {},
   "outputs": [],
   "source": [
    "proximity_city1 = train_data[['feature_cols...','Sales']]"
   ]
  },
  {
   "cell_type": "code",
   "execution_count": null,
   "metadata": {},
   "outputs": [],
   "source": [
    "prox_col = list(proximity_city1.drop(['start','Sales'],axis=1).columns)"
   ]
  },
  {
   "cell_type": "code",
   "execution_count": null,
   "metadata": {},
   "outputs": [],
   "source": [
    "prox_corr = final_data[prox_col].corr()"
   ]
  },
  {
   "cell_type": "code",
   "execution_count": null,
   "metadata": {},
   "outputs": [],
   "source": [
    "param_grid_prox_feat = {\n",
    "    'n_estimators': [200, 500, 1000], \n",
    "    'max_features': [5, 10,15],\n",
    "    'max_depth':[4,6,8]}\n",
    "proximity_city1_feat= GridSearchCV(RandomForestRegressor(), \n",
    "                                   param_grid_prox_feat, \n",
    "                                   cv=5, \n",
    "                                   scoring=make_scorer(mean_squared_error))"
   ]
  },
  {
   "cell_type": "code",
   "execution_count": null,
   "metadata": {},
   "outputs": [],
   "source": [
    "proximity_city1_feat.fit(proximity_city1[prox_col], \n",
    "                         proximity_city['Sales'])"
   ]
  },
  {
   "cell_type": "code",
   "execution_count": null,
   "metadata": {},
   "outputs": [],
   "source": [
    "proximity_city1_feat.best_params_"
   ]
  },
  {
   "cell_type": "code",
   "execution_count": null,
   "metadata": {},
   "outputs": [],
   "source": [
    "proximity_city1_feat = RandomForestRegressor(max_depth=8, \n",
    "                                             max_features=15, \n",
    "                                             n_estimators=500)\n",
    "proximity_city1_feat.fit(proximity_city1[prox_col], proximity_city1['Sales'])"
   ]
  },
  {
   "cell_type": "code",
   "execution_count": null,
   "metadata": {},
   "outputs": [],
   "source": [
    "importance = proximity_city1_feat.feature_importances_\n",
    "importance = pd.DataFrame(importance, index=prox_col, \n",
    "                          columns=[\"Importance\"])\n",
    "# importance[\"Std\"] = np.std([tree.feature_importances_\n",
    "#                             for tree in clf.estimators_], axis=0)"
   ]
  },
  {
   "cell_type": "code",
   "execution_count": null,
   "metadata": {},
   "outputs": [],
   "source": [
    "X = proximity_city1[prox_col]\n",
    "y = proximity_city1['OOH Sales']"
   ]
  },
  {
   "cell_type": "code",
   "execution_count": null,
   "metadata": {},
   "outputs": [],
   "source": [
    "feat_importances = pd.Series(proximity_city1_feat.feature_importances_, index=X.columns)\n",
    "feat_importances = feat_importances.nlargest(20)\n",
    "plt.figure(figsize=(15,10))\n",
    "feat_importances.plot(kind='barh',color='blue',width=0.7)\n",
    "plt.ylabel('Features',fontsize=15)\n",
    "#plt.ylabel('ylabel', fontsize=16)\n",
    "plt.xlabel('Feature_Importance_Value',fontsize=15)\n",
    "#plt.savefig('feature_imp_10.jpg')"
   ]
  },
  {
   "cell_type": "code",
   "execution_count": null,
   "metadata": {},
   "outputs": [],
   "source": [
    "feat_importances = pd.Series(proximity_city1_feat.feature_importances_, index=X.columns)\n",
    "feat_importances.head()"
   ]
  },
  {
   "cell_type": "code",
   "execution_count": null,
   "metadata": {},
   "outputs": [],
   "source": [
    "demographic_col = list(set(col_names).difference(prox_col).difference(ohe_col))"
   ]
  },
  {
   "cell_type": "code",
   "execution_count": null,
   "metadata": {},
   "outputs": [],
   "source": [
    "ohe_col = ['Variable1',....]"
   ]
  },
  {
   "cell_type": "code",
   "execution_count": null,
   "metadata": {},
   "outputs": [],
   "source": [
    "#demographic_col.insert(0,'OOH Sales')\n",
    "demographic_col.insert(0,'start')"
   ]
  },
  {
   "cell_type": "code",
   "execution_count": null,
   "metadata": {},
   "outputs": [],
   "source": [
    "demographic_city1_feat = final_data[demographic_col]"
   ]
  },
  {
   "cell_type": "code",
   "execution_count": null,
   "metadata": {},
   "outputs": [],
   "source": [
    "demographic_col.remove('start')"
   ]
  },
  {
   "cell_type": "code",
   "execution_count": null,
   "metadata": {},
   "outputs": [],
   "source": [
    "param_grid_demo_feat = {'n_estimators': [200, 500, 1000], \n",
    "                        'max_features': [5, 10,15],\n",
    "                        'max_depth':[4,6,8]}\n",
    "clf_demo_feat= GridSearchCV(RandomForestRegressor(), \n",
    "                            param_grid_demo_feat, \n",
    "                            cv=5, \n",
    "                            scoring=make_scorer(mean_squared_error))"
   ]
  },
  {
   "cell_type": "code",
   "execution_count": null,
   "metadata": {},
   "outputs": [],
   "source": [
    "clf_demo_feat.fit(train_data[demographic_col], train_data['Sales'])"
   ]
  },
  {
   "cell_type": "code",
   "execution_count": null,
   "metadata": {},
   "outputs": [],
   "source": [
    "clf_demo_feat.best_params_"
   ]
  },
  {
   "cell_type": "code",
   "execution_count": null,
   "metadata": {},
   "outputs": [],
   "source": [
    "clf_demo_feat = RandomForestRegressor(max_depth= 8, \n",
    "                                      max_features= 15, \n",
    "                                      n_estimators= 500)"
   ]
  },
  {
   "cell_type": "code",
   "execution_count": null,
   "metadata": {},
   "outputs": [],
   "source": [
    "clf_demo_feat.fit(train_data[demographic_col], \n",
    "                  train_data['Sales'])"
   ]
  },
  {
   "cell_type": "code",
   "execution_count": null,
   "metadata": {},
   "outputs": [],
   "source": [
    "importance = clf_demo_feat.feature_importances_\n",
    "importance = pd.DataFrame(importance, \n",
    "                          index=demographic_col, \n",
    "                          columns=[\"Importance\"])\n",
    "# importance[\"Std\"] = np.std([tree.feature_importances_\n",
    "#                             for tree in clf.estimators_], axis=0)"
   ]
  },
  {
   "cell_type": "code",
   "execution_count": null,
   "metadata": {},
   "outputs": [],
   "source": [
    "feat_importances = pd.Series(clf_demo_feat.feature_importances_, \n",
    "                             index=demographic_col)\n",
    "feat_importances = feat_importances.nlargest(20)\n",
    "plt.figure(figsize=(15,10))\n",
    "feat_importances.plot(kind='barh',color='blue',width=0.7)\n",
    "plt.ylabel('Features',fontsize=15)\n",
    "#plt.ylabel('ylabel', fontsize=16)\n",
    "plt.xlabel('Feature_Importance_Value',fontsize=15)\n",
    "#plt.savefig('feature_imp_10.jpg')"
   ]
  },
  {
   "cell_type": "code",
   "execution_count": null,
   "metadata": {},
   "outputs": [],
   "source": [
    "all_feat = pd.read_csv('feature_importance_all_features.csv')\n",
    "demographic_feat = pd.read_csv('feature_imp_demographic_city1.csv')\n",
    "proximity_feat = pd.read_csv('feat_imp_proximity_city1.csv')"
   ]
  },
  {
   "cell_type": "code",
   "execution_count": null,
   "metadata": {},
   "outputs": [],
   "source": [
    "all_feat = all_feat.sort_values('Score',ascending=False)\n",
    "demographic_feat = demographic_feat.sort_values('Score',ascending=False)\n",
    "proximity_feat = proximity_feat.sort_values('Score',ascending=False)"
   ]
  },
  {
   "cell_type": "code",
   "execution_count": null,
   "metadata": {},
   "outputs": [],
   "source": [
    "top_50_feat = all_feat.nlargest(50,columns='Score')"
   ]
  },
  {
   "cell_type": "code",
   "execution_count": null,
   "metadata": {},
   "outputs": [],
   "source": [
    "top_50_feat['Score']= top_50_feat['Score']/top_50_feat['Score'].sum()"
   ]
  },
  {
   "cell_type": "code",
   "execution_count": null,
   "metadata": {},
   "outputs": [],
   "source": [
    "col_top_50=list(top_50_feat['Features'])\n",
    "col_top_50.insert(0,'start')"
   ]
  },
  {
   "cell_type": "code",
   "execution_count": null,
   "metadata": {},
   "outputs": [],
   "source": [
    "top_50_f_data = final_data[col_top_50]"
   ]
  },
  {
   "cell_type": "code",
   "execution_count": null,
   "metadata": {},
   "outputs": [],
   "source": [
    "col_top_50.remove('start')"
   ]
  },
  {
   "cell_type": "code",
   "execution_count": null,
   "metadata": {},
   "outputs": [],
   "source": [
    "for i in col_top_50:\n",
    "    top_50_f_data[i] = top_50_f_data[i]*top_50_feat[top_50_feat['Features']==i]['Score'].iloc[0]"
   ]
  },
  {
   "cell_type": "code",
   "execution_count": null,
   "metadata": {},
   "outputs": [],
   "source": [
    "top_50_f_data.set_index('start', inplace = True)"
   ]
  },
  {
   "cell_type": "code",
   "execution_count": null,
   "metadata": {},
   "outputs": [],
   "source": [
    "cosine_sim_top_50 = cosine_similarity(top_50_f_data)"
   ]
  },
  {
   "cell_type": "code",
   "execution_count": null,
   "metadata": {},
   "outputs": [],
   "source": [
    "top_50_f_data_col = list(top_50_f_data.index)"
   ]
  },
  {
   "cell_type": "code",
   "execution_count": null,
   "metadata": {},
   "outputs": [],
   "source": [
    "cosine_sim_top_50 = pd.DataFrame(cosine_sim_top_50, \n",
    "                                 index = top_50_f_data_col, \n",
    "                                 columns = top_50_f_data_col)"
   ]
  },
  {
   "cell_type": "code",
   "execution_count": null,
   "metadata": {},
   "outputs": [],
   "source": [
    "cosine_sim_top_50.reset_index(inplace = True)"
   ]
  },
  {
   "cell_type": "code",
   "execution_count": null,
   "metadata": {},
   "outputs": [],
   "source": [
    "cosine_sim_top_50 = cosine_sim_top_50.rename(columns={'index':'start'})"
   ]
  },
  {
   "cell_type": "code",
   "execution_count": null,
   "metadata": {},
   "outputs": [],
   "source": [
    "long_cosine_sim_top_50 = cosine_sim_top_50.melt(id_vars = ['start'], \n",
    "                                       value_vars = list(cosine_sim_top_50.iloc[:, 1:].columns) \n",
    "                                       )"
   ]
  },
  {
   "cell_type": "code",
   "execution_count": null,
   "metadata": {},
   "outputs": [],
   "source": [
    "long_cosine_sim_top_50 = long_cosine_sim_top_50.loc[(long_cosine_sim_top_50['start']!=long_cosine_sim_top_50['variable']),:]"
   ]
  },
  {
   "cell_type": "code",
   "execution_count": null,
   "metadata": {},
   "outputs": [],
   "source": [
    "long_cosine_sim_top_50.columns = ['Potential Store','Reference Store','Similarity']"
   ]
  },
  {
   "cell_type": "code",
   "execution_count": null,
   "metadata": {},
   "outputs": [],
   "source": [
    "final_product_df = pd.read_csv('product_data.csv')"
   ]
  },
  {
   "cell_type": "code",
   "execution_count": null,
   "metadata": {},
   "outputs": [],
   "source": [
    "Product_Sales_subset = final_product_df[['ID', 'Sales']]"
   ]
  },
  {
   "cell_type": "code",
   "execution_count": null,
   "metadata": {},
   "outputs": [],
   "source": [
    "Potential_Sales = long_cosine_sim_top_50.merge(Product_Sales_subset, \n",
    "                                               how = 'left', \n",
    "                                               left_on = 'Reference Store', \n",
    "                                               right_on = 'ID')"
   ]
  },
  {
   "cell_type": "code",
   "execution_count": null,
   "metadata": {},
   "outputs": [],
   "source": [
    "Potential_Sales = Potential_Sales[['Potential Store', \n",
    "                                   'Reference Store', \n",
    "                                   'Similarity', \n",
    "                                   'Sales']]"
   ]
  },
  {
   "cell_type": "code",
   "execution_count": null,
   "metadata": {},
   "outputs": [],
   "source": [
    "Potential_Sales['Sales'] = Potential_Sales['Sales'].fillna(0)"
   ]
  },
  {
   "cell_type": "code",
   "execution_count": null,
   "metadata": {},
   "outputs": [],
   "source": [
    "outlet_top5 = Potential_Sales.groupby(by = ['Potential Store', \n",
    "                                            'Reference Store']).apply(lambda x: x.sort_values('Similarity',ascending = False).head(5))"
   ]
  },
  {
   "cell_type": "code",
   "execution_count": null,
   "metadata": {},
   "outputs": [],
   "source": [
    "Potential_Sales['Predicted Sales cumulative'] = Potential_Sales['Similarity']*Potential_Sales['Sales']"
   ]
  },
  {
   "cell_type": "code",
   "execution_count": null,
   "metadata": {},
   "outputs": [],
   "source": [
    "Potential_Sales = Potential_Sales.groupby(by = ['Potential Store']).agg({'Predicted Sales cumulative':sum, 'Similarity':sum})"
   ]
  },
  {
   "cell_type": "code",
   "execution_count": null,
   "metadata": {},
   "outputs": [],
   "source": [
    "Potential_Sales['Predicted Sales Actual'] = Potential_Sales['Predicted Sales cumulative']/Potential_Sales['Similarity']"
   ]
  },
  {
   "cell_type": "code",
   "execution_count": null,
   "metadata": {},
   "outputs": [],
   "source": [
    "Potential_Sales.reset_index(inplace = True)"
   ]
  },
  {
   "cell_type": "code",
   "execution_count": null,
   "metadata": {},
   "outputs": [],
   "source": [
    "Potential_Sales_ideal = Potential_Sales[['Potential Store', 'Predicted Sales Actual']].merge(Product_Sales_subset, \n",
    "                                                                                             how = 'left', \n",
    "                                                                                             left_on = 'Potential Store', \n",
    "                                                                                             right_on = 'ID')"
   ]
  },
  {
   "cell_type": "code",
   "execution_count": null,
   "metadata": {},
   "outputs": [],
   "source": [
    "Potential_Sales_ideal = Potential_Sales_ideal[['Potential Store', \n",
    "                                               'Predicted Sales Actual', \n",
    "                                               'Sales']]"
   ]
  },
  {
   "cell_type": "markdown",
   "metadata": {},
   "source": [
    "## Using Pvalue for feature imp"
   ]
  },
  {
   "cell_type": "code",
   "execution_count": null,
   "metadata": {},
   "outputs": [],
   "source": [
    "col_top_50=list(feat_imp_p_values['feature_name'])\n",
    "col_top_50.insert(0,'start')"
   ]
  },
  {
   "cell_type": "code",
   "execution_count": null,
   "metadata": {},
   "outputs": [],
   "source": [
    "top_50_f_data = final_data[col_top_50]"
   ]
  },
  {
   "cell_type": "code",
   "execution_count": null,
   "metadata": {},
   "outputs": [],
   "source": [
    "top_50_f_data.set_index('start',inplace=True)"
   ]
  },
  {
   "cell_type": "code",
   "execution_count": null,
   "metadata": {},
   "outputs": [],
   "source": [
    "from sklearn.metrics.pairwise import cosine_similarity"
   ]
  },
  {
   "cell_type": "code",
   "execution_count": null,
   "metadata": {},
   "outputs": [],
   "source": [
    "cosine_sim_top_50 = cosine_similarity(top_50_f_data)"
   ]
  },
  {
   "cell_type": "code",
   "execution_count": null,
   "metadata": {},
   "outputs": [],
   "source": [
    "top_50_f_data_col = list(top_50_f_data.index)\n",
    "\n",
    "cosine_sim_top_50 = pd.DataFrame(cosine_sim_top_50, \n",
    "                                 index = top_50_f_data_col, \n",
    "                                 columns = top_50_f_data_col)"
   ]
  },
  {
   "cell_type": "code",
   "execution_count": null,
   "metadata": {},
   "outputs": [],
   "source": [
    "cosine_sim_top_50.reset_index(inplace = True)"
   ]
  },
  {
   "cell_type": "code",
   "execution_count": null,
   "metadata": {},
   "outputs": [],
   "source": [
    "cosine_sim_top_50 = cosine_sim_top_50.rename(columns={'index':'start'})"
   ]
  },
  {
   "cell_type": "code",
   "execution_count": null,
   "metadata": {},
   "outputs": [],
   "source": [
    "long_cosine_sim_top_50 = cosine_sim_top_50.melt(id_vars = ['start'], \n",
    "                                       value_vars = list(cosine_sim_top_50.iloc[:, 1:].columns) \n",
    "                                       )"
   ]
  },
  {
   "cell_type": "code",
   "execution_count": null,
   "metadata": {},
   "outputs": [],
   "source": [
    "long_cosine_sim_top_50.columns = ['Potential Store','Reference Store','Similarity']\n",
    "\n",
    "\n",
    "sales_info2 = pd.read_csv('Product_sales.csv')\n",
    "\n",
    "sales_info2['ID'] = sales_info2['ID'].apply(str)\n",
    "\n",
    "Product_Sales_subset = sales_info2.loc[sales_info2['Type'] == \"Store Type 1\", :]\n",
    "\n",
    "Potential_Sales = long_cosine_sim_top_50.merge(Product_Sales_subset[['ID', 'Sales']], \n",
    "                                               how = 'left', \n",
    "                                               left_on = 'Reference Store', \n",
    "                                               right_on = 'ID')"
   ]
  },
  {
   "cell_type": "code",
   "execution_count": null,
   "metadata": {},
   "outputs": [],
   "source": [
    "Potential_Sales = Potential_Sales.dropna(axis = 0, how = 'any')\n",
    "\n",
    "Potential_Sales['Potential Store'] = Potential_Sales['Potential Store'].apply(str)\n",
    "\n",
    "Potential_Sales = Potential_Sales.loc[Potential_Sales['Potential Store'] != Potential_Sales['Reference Store'], :]"
   ]
  },
  {
   "cell_type": "code",
   "execution_count": null,
   "metadata": {},
   "outputs": [],
   "source": [
    "Potential_Sales = Potential_Sales.merge(sales_info2[['ID', 'Type']], \n",
    "                                        how = 'left', \n",
    "                                        left_on = 'Potential Store', \n",
    "                                        right_on = 'ID')"
   ]
  },
  {
   "cell_type": "code",
   "execution_count": null,
   "metadata": {},
   "outputs": [],
   "source": [
    "Potential_Sales = Potential_Sales.loc[Potential_Sales['Type'].apply(str) == 'Store Type 2', :]\n"
   ]
  },
  {
   "cell_type": "code",
   "execution_count": null,
   "metadata": {},
   "outputs": [],
   "source": [
    "Potential_Sales = Potential_Sales.loc[Potential_Sales['Sales'] != 0, :]"
   ]
  },
  {
   "cell_type": "code",
   "execution_count": null,
   "metadata": {},
   "outputs": [],
   "source": [
    "Potential_Sales = Potential_Sales[['Potential Store', \n",
    "                                   'Reference Store', \n",
    "                                   'Similarity', \n",
    "                                   'Sales']]\n",
    "\n",
    "Potential_Sales['Potential Sales'] = Potential_Sales['Similarity']*Potential_Sales['Sales']\n",
    "\n",
    "Potential_Sales = Potential_Sales.drop(['Sales'], axis = 1)\n",
    "\n",
    "Potential_Sales.reset_index(drop = True, \n",
    "                            inplace = True)"
   ]
  },
  {
   "cell_type": "code",
   "execution_count": null,
   "metadata": {},
   "outputs": [],
   "source": [
    "top10list = Potential_Sales.groupby(by = 'Potential Store').apply(lambda x: x.sort_values('Similarity',\n",
    "                                                                                          ascending = False).head(10))"
   ]
  },
  {
   "cell_type": "code",
   "execution_count": null,
   "metadata": {},
   "outputs": [],
   "source": [
    "top10list = top10list.drop(['Potential Store'], axis = 1)\n",
    "\n",
    "top10list = top10list.reset_index()"
   ]
  },
  {
   "cell_type": "code",
   "execution_count": null,
   "metadata": {},
   "outputs": [],
   "source": [
    "top10list = top10list.drop(['level_1'], axis = 1)"
   ]
  },
  {
   "cell_type": "code",
   "execution_count": null,
   "metadata": {},
   "outputs": [],
   "source": [
    "pot_sales = top10list.groupby('Potential Store').agg({'Potential Sales':sum, 'Similarity':sum}).reset_index()"
   ]
  },
  {
   "cell_type": "code",
   "execution_count": null,
   "metadata": {},
   "outputs": [],
   "source": [
    "pot_sales['Sales Opportunity'] = pot_sales['Potential Sales']/pot_sales['Similarity']\n",
    "\n",
    "pot_sales = pot_sales.drop(['Potential Sales'], axis = 1)"
   ]
  },
  {
   "cell_type": "code",
   "execution_count": null,
   "metadata": {},
   "outputs": [],
   "source": [
    "pot_sales = pot_sales.merge(sales_info2[['ID','Sales']],\n",
    "                            how='left',\n",
    "                            left_on='Potential Store',\n",
    "                            right_on='ID').drop(['ID'],axis=1)"
   ]
  },
  {
   "cell_type": "code",
   "execution_count": null,
   "metadata": {},
   "outputs": [],
   "source": [
    "pot_sales.to_csv('potential_sales_city1_p_values.csv')"
   ]
  }
 ],
 "metadata": {
  "kernelspec": {
   "display_name": "Python 3",
   "language": "python",
   "name": "python3"
  },
  "language_info": {
   "codemirror_mode": {
    "name": "ipython",
    "version": 3
   },
   "file_extension": ".py",
   "mimetype": "text/x-python",
   "name": "python",
   "nbconvert_exporter": "python",
   "pygments_lexer": "ipython3",
   "version": "3.6.4"
  }
 },
 "nbformat": 4,
 "nbformat_minor": 2
}
